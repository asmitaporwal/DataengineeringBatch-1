{
 "cells": [
  {
   "cell_type": "code",
   "execution_count": 1,
   "id": "9897f540",
   "metadata": {},
   "outputs": [
    {
     "name": "stdout",
     "output_type": "stream",
     "text": [
      "Requirement already satisfied: findspark in c:\\users\\asmita porwal\\anaconda3\\lib\\site-packages (2.0.1)\n"
     ]
    }
   ],
   "source": [
    "\n",
    "#!pip install findspark\n"
   ]
  },
  {
   "cell_type": "code",
   "execution_count": 2,
   "id": "90131088",
   "metadata": {},
   "outputs": [],
   "source": [
    "import pyspark\n",
    "import findspark\n",
    "findspark.init()"
   ]
  },
  {
   "cell_type": "code",
   "execution_count": 3,
   "id": "97213472",
   "metadata": {},
   "outputs": [
    {
     "data": {
      "text/html": [
       "\n",
       "        <div>\n",
       "            <p><b>SparkContext</b></p>\n",
       "\n",
       "            <p><a href=\"http://Lenovo-Ideapad:4042\">Spark UI</a></p>\n",
       "\n",
       "            <dl>\n",
       "              <dt>Version</dt>\n",
       "                <dd><code>v3.5.0</code></dd>\n",
       "              <dt>Master</dt>\n",
       "                <dd><code>local</code></dd>\n",
       "              <dt>AppName</dt>\n",
       "                <dd><code>RDD Transformation</code></dd>\n",
       "            </dl>\n",
       "        </div>\n",
       "        "
      ],
      "text/plain": [
       "<SparkContext master=local appName=RDD Transformation>"
      ]
     },
     "execution_count": 3,
     "metadata": {},
     "output_type": "execute_result"
    }
   ],
   "source": [
    "#Creating a SparkContext\n",
    "from pyspark import SparkContext\n",
    "sc = SparkContext(\"local\", \"RDD Transformation\")\n",
    "sc"
   ]
  },
  {
   "cell_type": "code",
   "execution_count": null,
   "id": "1789833e",
   "metadata": {},
   "outputs": [],
   "source": []
  },
  {
   "cell_type": "code",
   "execution_count": 34,
   "id": "d93cdec6",
   "metadata": {},
   "outputs": [
    {
     "name": "stdout",
     "output_type": "stream",
     "text": [
      "[1, 2, 3, 4, 5]\n"
     ]
    }
   ],
   "source": [
    "collect_rdd = sc.parallelize([1,2,3,4,5])\n",
    "print(collect_rdd.collect())\n"
   ]
  },
  {
   "cell_type": "code",
   "execution_count": 4,
   "id": "86097c13",
   "metadata": {},
   "outputs": [
    {
     "name": "stdout",
     "output_type": "stream",
     "text": [
      "10\n"
     ]
    }
   ],
   "source": [
    "count_rdd = sc.parallelize([1,2,3,4,5,5,6,7,8,9])\n",
    "print(count_rdd.count())"
   ]
  },
  {
   "cell_type": "code",
   "execution_count": 5,
   "id": "3b3b7051",
   "metadata": {},
   "outputs": [
    {
     "name": "stdout",
     "output_type": "stream",
     "text": [
      "14\n"
     ]
    }
   ],
   "source": [
    "\n",
    "reduce_rdd = sc.parallelize([1,3,4,6])\n",
    "print(reduce_rdd.reduce(lambda x, y : x + y))"
   ]
  },
  {
   "cell_type": "code",
   "execution_count": 32,
   "id": "2aa7b116",
   "metadata": {},
   "outputs": [
    {
     "data": {
      "text/plain": [
       "[1, 2, 3]"
      ]
     },
     "execution_count": 32,
     "metadata": {},
     "output_type": "execute_result"
    }
   ],
   "source": [
    "take_rdd = sc.parallelize([1,2,3,4,5])\n",
    "take_rdd.take(3)"
   ]
  },
  {
   "cell_type": "code",
   "execution_count": 33,
   "id": "16337015",
   "metadata": {},
   "outputs": [
    {
     "data": {
      "text/plain": [
       "1"
      ]
     },
     "execution_count": 33,
     "metadata": {},
     "output_type": "execute_result"
    }
   ],
   "source": [
    "first_rdd = sc.parallelize([1,2,3,4,5])\n",
    "first_rdd.first()"
   ]
  },
  {
   "cell_type": "code",
   "execution_count": 36,
   "id": "f4f27580",
   "metadata": {},
   "outputs": [
    {
     "name": "stdout",
     "output_type": "stream",
     "text": [
      "[11, 12, 13, 14]\n"
     ]
    }
   ],
   "source": [
    "my_rdd = sc.parallelize([1,2,3,4])\n",
    "print(my_rdd.map(lambda x: x+ 10).collect())"
   ]
  },
  {
   "cell_type": "code",
   "execution_count": 37,
   "id": "8bdada70",
   "metadata": {},
   "outputs": [
    {
     "name": "stdout",
     "output_type": "stream",
     "text": [
      "[2, 4, 6]\n"
     ]
    }
   ],
   "source": [
    "filter_rdd = sc.parallelize([2, 3, 4, 5, 6, 7])\n",
    "print(filter_rdd.filter(lambda x: x%2 == 0).collect())\n"
   ]
  },
  {
   "cell_type": "code",
   "execution_count": 38,
   "id": "c7575a61",
   "metadata": {},
   "outputs": [
    {
     "name": "stdout",
     "output_type": "stream",
     "text": [
      "['Rahul', 'Rohan']\n"
     ]
    }
   ],
   "source": [
    "filter_rdd_2 = sc.parallelize(['Rahul', 'Swati', 'Rohan', 'Shreya', 'Priya'])\n",
    "print(filter_rdd_2.filter(lambda x: x.startswith('R')).collect())\n"
   ]
  },
  {
   "cell_type": "code",
   "execution_count": 39,
   "id": "7f464cf1",
   "metadata": {},
   "outputs": [
    {
     "name": "stdout",
     "output_type": "stream",
     "text": [
      "[2, 4, 6, 8, 6, 9]\n"
     ]
    }
   ],
   "source": [
    "#The .union() Transformation\n",
    "union_inp = sc.parallelize([2,4,5,6,7,8,9])\n",
    "union_rdd_1 = union_inp.filter(lambda x: x % 2 == 0)\n",
    "union_rdd_2 = union_inp.filter(lambda x: x % 3 == 0)\n",
    "print(union_rdd_1.union(union_rdd_2).collect())\n"
   ]
  },
  {
   "cell_type": "code",
   "execution_count": 40,
   "id": "f0f901e1",
   "metadata": {},
   "outputs": [
    {
     "name": "stdout",
     "output_type": "stream",
     "text": [
      "[('Rahul', 48), ('Swati', 45), ('Shreya', 50), ('Abhay', 55), ('Rohan', 44)]\n"
     ]
    }
   ],
   "source": [
    "# The .reduceByKey() Transformation\n",
    "marks_rdd = sc.parallelize([('Rahul', 25), ('Swati', 26), ('Shreya', 22), ('Abhay', 29), ('Rohan', 22), ('Rahul', 23), ('Swati', 19), ('Shreya', 28), ('Abhay', 26), ('Rohan', 22)])\n",
    "print(marks_rdd.reduceByKey(lambda x, y: x + y).collect())\n"
   ]
  },
  {
   "cell_type": "code",
   "execution_count": 41,
   "id": "7498100a",
   "metadata": {},
   "outputs": [
    {
     "name": "stdout",
     "output_type": "stream",
     "text": [
      "[('Abhay', 29), ('Abhay', 26), ('Rahul', 25), ('Rahul', 23), ('Rohan', 22), ('Rohan', 22), ('Shreya', 22), ('Shreya', 28), ('Swati', 26), ('Swati', 19)]\n"
     ]
    }
   ],
   "source": [
    "# The .sortByKey() Transformation\n",
    "marks_rdd = sc.parallelize([('Rahul', 25), ('Swati', 26), ('Shreya', 22), ('Abhay', 29), ('Rohan', 22), ('Rahul', 23), ('Swati', 19), ('Shreya', 28), ('Abhay', 26), ('Rohan', 22)])\n",
    "print(marks_rdd.sortByKey('ascending').collect())\n"
   ]
  },
  {
   "cell_type": "code",
   "execution_count": 42,
   "id": "2a346c54",
   "metadata": {},
   "outputs": [
    {
     "name": "stdout",
     "output_type": "stream",
     "text": [
      "Rahul [25, 23]\n",
      "Swati [26, 19]\n",
      "Shreya [22, 28]\n",
      "Abhay [29, 26]\n",
      "Rohan [22, 22]\n"
     ]
    }
   ],
   "source": [
    "#The .groupByKey() Transformation\n",
    "marks_rdd = sc.parallelize([('Rahul', 25), ('Swati', 26), ('Shreya', 22), ('Abhay', 29), ('Rohan', 22), ('Rahul', 23), ('Swati', 19), ('Shreya', 28), ('Abhay', 26), ('Rohan', 22)])\n",
    "dict_rdd = marks_rdd.groupByKey().collect()\n",
    "for key, value in dict_rdd:\n",
    "    print(key, list(value))\n"
   ]
  },
  {
   "cell_type": "code",
   "execution_count": 43,
   "id": "b98bfca7",
   "metadata": {},
   "outputs": [
    {
     "name": "stdout",
     "output_type": "stream",
     "text": [
      "Rahul 2\n",
      "Swati 2\n",
      "Rohan 2\n",
      "Shreya 1\n",
      "Abhay 1\n"
     ]
    }
   ],
   "source": [
    "#. The countByKey() Action\n",
    "marks_rdd = sc.parallelize([('Rahul', 25), ('Swati', 26), ('Rohan', 22), ('Rahul', 23), ('Swati', 19), ('Shreya', 28), ('Abhay', 26), ('Rohan', 22)])\n",
    "dict_rdd = marks_rdd.countByKey().items()\n",
    "for key, value in dict_rdd:\n",
    "    print(key, value)\n"
   ]
  },
  {
   "cell_type": "code",
   "execution_count": 14,
   "id": "e5595ce0",
   "metadata": {},
   "outputs": [
    {
     "name": "stdout",
     "output_type": "stream",
     "text": [
      "<class 'pyspark.rdd.RDD'>\n"
     ]
    }
   ],
   "source": [
    "#Creating a Resilient Data Structure (RDD)\n",
    "rdd = sc.parallelize([('C',85,76,87,91), ('B',85,76,87,91), (\"A\", 85,78,96,92), (\"A\", 92,76,89,96)], 4)\n",
    "print(type(rdd))"
   ]
  },
  {
   "cell_type": "code",
   "execution_count": null,
   "id": "72357439",
   "metadata": {},
   "outputs": [],
   "source": []
  },
  {
   "cell_type": "code",
   "execution_count": 16,
   "id": "12e30d68",
   "metadata": {},
   "outputs": [
    {
     "data": {
      "text/plain": [
       "DataFrame[Division: string, English: bigint, Mathematics: bigint, Physics: bigint, Chemistry: bigint]"
      ]
     },
     "execution_count": 16,
     "metadata": {},
     "output_type": "execute_result"
    }
   ],
   "source": [
    "#Converting the RDD into PySpark DataFrame\n",
    "sub = ['Division','English','Mathematics','Physics','Chemistry']\n",
    "marks_df = spark.createDataFrame(rdd, schema=sub)\n"
   ]
  },
  {
   "cell_type": "code",
   "execution_count": 17,
   "id": "81681931",
   "metadata": {},
   "outputs": [
    {
     "name": "stdout",
     "output_type": "stream",
     "text": [
      "+--------+-------+-----------+-------+---------+\n",
      "|Division|English|Mathematics|Physics|Chemistry|\n",
      "+--------+-------+-----------+-------+---------+\n",
      "|       C|     85|         76|     87|       91|\n",
      "|       B|     85|         76|     87|       91|\n",
      "|       A|     85|         78|     96|       92|\n",
      "|       A|     92|         76|     89|       96|\n",
      "+--------+-------+-----------+-------+---------+\n",
      "\n"
     ]
    }
   ],
   "source": [
    "#Contents of PySpark DataFrame\n",
    "marks_df.show()"
   ]
  },
  {
   "cell_type": "code",
   "execution_count": 18,
   "id": "1fdc5989",
   "metadata": {},
   "outputs": [
    {
     "name": "stdout",
     "output_type": "stream",
     "text": [
      "<class 'pyspark.sql.dataframe.DataFrame'>\n"
     ]
    }
   ],
   "source": [
    "#The dataType of PySpark DataFrame\n",
    "print(type(marks_df))"
   ]
  },
  {
   "cell_type": "code",
   "execution_count": 19,
   "id": "a6b44e08",
   "metadata": {},
   "outputs": [
    {
     "name": "stdout",
     "output_type": "stream",
     "text": [
      "root\n",
      " |-- Division: string (nullable = true)\n",
      " |-- English: long (nullable = true)\n",
      " |-- Mathematics: long (nullable = true)\n",
      " |-- Physics: long (nullable = true)\n",
      " |-- Chemistry: long (nullable = true)\n",
      "\n"
     ]
    }
   ],
   "source": [
    "#Schema of PySpark DataFrame\n",
    "marks_df.printSchema()\n"
   ]
  },
  {
   "cell_type": "code",
   "execution_count": 11,
   "id": "6037a5a6",
   "metadata": {
    "scrolled": true
   },
   "outputs": [
    {
     "name": "stdout",
     "output_type": "stream",
     "text": [
      "+------+----------+------+------+\n",
      "|  Name|       DOB|Gender|salary|\n",
      "+------+----------+------+------+\n",
      "|   Ram|1991-04-01|     M|  3000|\n",
      "|  Mike|2000-05-19|     M|  4000|\n",
      "|Rohini|1978-09-05|     M|  4000|\n",
      "| Maria|1967-12-01|     F|  4000|\n",
      "| Jenis|1980-02-17|     F|  1200|\n",
      "+------+----------+------+------+\n",
      "\n"
     ]
    }
   ],
   "source": [
    "from pyspark.sql import SparkSession\n",
    "spark = SparkSession.builder.appName('pyspark - example join').getOrCreate()\n",
    "# Create data in dataframe\n",
    "data = [(('Ram'), '1991-04-01', 'M', 3000),\n",
    "        (('Mike'), '2000-05-19', 'M', 4000),\n",
    "        (('Rohini'), '1978-09-05', 'M', 4000),\n",
    "        (('Maria'), '1967-12-01', 'F', 4000),\n",
    "        (('Jenis'), '1980-02-17', 'F', 1200)]\n",
    "# Column names in dataframe\n",
    "columns = [\"Name\", \"DOB\", \"Gender\", \"salary\"]\n",
    "# Create the spark dataframe\n",
    "df = spark.createDataFrame(data=data,\n",
    "                           schema=columns)\n",
    "# Print the dataframe\n",
    "df.show()\n"
   ]
  },
  {
   "cell_type": "code",
   "execution_count": 44,
   "id": "e7180649",
   "metadata": {},
   "outputs": [
    {
     "name": "stdout",
     "output_type": "stream",
     "text": [
      "+------+-----------+------+------+\n",
      "|  Name|DateOfBirth|Gender|salary|\n",
      "+------+-----------+------+------+\n",
      "|   Ram| 1991-04-01|     M|  3000|\n",
      "|  Mike| 2000-05-19|     M|  4000|\n",
      "|Rohini| 1978-09-05|     M|  4000|\n",
      "| Maria| 1967-12-01|     F|  4000|\n",
      "| Jenis| 1980-02-17|     F|  1200|\n",
      "+------+-----------+------+------+\n",
      "\n"
     ]
    }
   ],
   "source": [
    "df.withColumnRenamed(\"DOB\",\"DateOfBirth\").show()"
   ]
  },
  {
   "cell_type": "code",
   "execution_count": 47,
   "id": "08be8dde",
   "metadata": {},
   "outputs": [
    {
     "name": "stdout",
     "output_type": "stream",
     "text": [
      "+------+----------+---+------+\n",
      "|  Name|       DOB|Sex|Amount|\n",
      "+------+----------+---+------+\n",
      "|   Ram|1991-04-01|  M|  3000|\n",
      "|  Mike|2000-05-19|  M|  4000|\n",
      "|Rohini|1978-09-05|  M|  4000|\n",
      "| Maria|1967-12-01|  F|  4000|\n",
      "| Jenis|1980-02-17|  F|  1200|\n",
      "+------+----------+---+------+\n",
      "\n"
     ]
    }
   ],
   "source": [
    "df.withColumnRenamed(\"Gender\",\"Sex\").withColumnRenamed(\"salary\",\"Amount\").show()"
   ]
  },
  {
   "cell_type": "code",
   "execution_count": 48,
   "id": "18a0a44e",
   "metadata": {},
   "outputs": [
    {
     "name": "stdout",
     "output_type": "stream",
     "text": [
      "+------+----------+------+------+\n",
      "|  name|       DOB|Gender|salary|\n",
      "+------+----------+------+------+\n",
      "|   Ram|1991-04-01|     M|  3000|\n",
      "|  Mike|2000-05-19|     M|  4000|\n",
      "|Rohini|1978-09-05|     M|  4000|\n",
      "| Maria|1967-12-01|     F|  4000|\n",
      "| Jenis|1980-02-17|     F|  1200|\n",
      "+------+----------+------+------+\n",
      "\n"
     ]
    }
   ],
   "source": [
    "#Renaming the column names using selectExpr() method\n",
    "data = df.selectExpr(\"Name as name\",\"DOB\",\"Gender\",\"salary\")\n",
    "data.show()\n"
   ]
  },
  {
   "cell_type": "code",
   "execution_count": 49,
   "id": "19f9b4b0",
   "metadata": {},
   "outputs": [
    {
     "name": "stdout",
     "output_type": "stream",
     "text": [
      "+------+----------+------+------+\n",
      "|  Name|       DOB|Gender|Amount|\n",
      "+------+----------+------+------+\n",
      "|   Ram|1991-04-01|     M|  3000|\n",
      "|  Mike|2000-05-19|     M|  4000|\n",
      "|Rohini|1978-09-05|     M|  4000|\n",
      "| Maria|1967-12-01|     F|  4000|\n",
      "| Jenis|1980-02-17|     F|  1200|\n",
      "+------+----------+------+------+\n",
      "\n"
     ]
    }
   ],
   "source": [
    "#Selects the cols in the dataframe and returns a new DataFrame\n",
    "\n",
    "from pyspark.sql.functions import col\n",
    "data = df.select(col(\"Name\"),col(\"DOB\"),\n",
    "                 col(\"Gender\"),\n",
    "                 col(\"salary\").alias('Amount'))\n",
    "data.show()"
   ]
  },
  {
   "cell_type": "code",
   "execution_count": 13,
   "id": "19096964",
   "metadata": {},
   "outputs": [
    {
     "name": "stdout",
     "output_type": "stream",
     "text": [
      "+-------+----------+---------+---------+\n",
      "|NewName|    NewDOB|NewGender|Newsalary|\n",
      "+-------+----------+---------+---------+\n",
      "|    Ram|1991-04-01|        M|     3000|\n",
      "|   Mike|2000-05-19|        M|     4000|\n",
      "| Rohini|1978-09-05|        M|     4000|\n",
      "|  Maria|1967-12-01|        F|     4000|\n",
      "|  Jenis|1980-02-17|        F|     1200|\n",
      "+-------+----------+---------+---------+\n",
      "\n"
     ]
    }
   ],
   "source": [
    "columns = [\"NewName\", \"NewDOB\", \"NewGender\", \"Newsalary\"]\n",
    "new_df= df.toDF(*columns)\n",
    "new_df.show()"
   ]
  },
  {
   "cell_type": "code",
   "execution_count": 20,
   "id": "8cdb454f",
   "metadata": {},
   "outputs": [],
   "source": [
    "#Create PySpark DataFrame From an External File\n",
    "\n",
    "spark = SparkSession.builder.appName('PySpark DataFrame From External Files').getOrCreate()\n"
   ]
  },
  {
   "cell_type": "code",
   "execution_count": 21,
   "id": "76863d2f",
   "metadata": {},
   "outputs": [],
   "source": [
    "#Reading External Files into PySpark DataFrame\n",
    "# Reading a CSV File\n",
    "csv_file = spark.read.csv('Output.csv', sep = ',', inferSchema = True, header = True)"
   ]
  },
  {
   "cell_type": "code",
   "execution_count": 23,
   "id": "419feb10",
   "metadata": {},
   "outputs": [],
   "source": [
    "#Reading a TXT File\n",
    "txt_file = spark.read.text(\"D:\\DataengineeringBatch-1\\Practice_Assignment\\Assignment-12 Day-12\\pyspark.txt\")\n"
   ]
  },
  {
   "cell_type": "code",
   "execution_count": 24,
   "id": "034cf548",
   "metadata": {},
   "outputs": [],
   "source": [
    "# Reading a JSON File\n",
    "json_file = spark.read.json(\"D:\\DataEngineeringhexa\\Python\\sample.json\", multiLine=True)\n"
   ]
  },
  {
   "cell_type": "code",
   "execution_count": 25,
   "id": "a6705c10",
   "metadata": {},
   "outputs": [
    {
     "name": "stdout",
     "output_type": "stream",
     "text": [
      "<class 'pyspark.sql.dataframe.DataFrame'>\n",
      "<class 'pyspark.sql.dataframe.DataFrame'>\n",
      "<class 'pyspark.sql.dataframe.DataFrame'>\n"
     ]
    }
   ],
   "source": [
    "#Checking DataTypes of PySpark DataFrames\n",
    "print(type(csv_file))\n",
    "\n",
    "print(type(txt_file))\n",
    "\n",
    "print(type(json_file))\n"
   ]
  },
  {
   "cell_type": "code",
   "execution_count": 27,
   "id": "602c8311",
   "metadata": {},
   "outputs": [
    {
     "name": "stdout",
     "output_type": "stream",
     "text": [
      "root\n",
      " |-- _c0: integer (nullable = true)\n",
      " |-- Payer: string (nullable = true)\n",
      " |-- Payee: string (nullable = true)\n",
      " |-- Amount: integer (nullable = true)\n",
      " |-- lineage: string (nullable = true)\n",
      "\n",
      "root\n",
      " |-- value: string (nullable = true)\n",
      "\n",
      "root\n",
      " |-- cgpa: double (nullable = true)\n",
      " |-- name: string (nullable = true)\n",
      " |-- phonenumber: string (nullable = true)\n",
      " |-- rollno: long (nullable = true)\n",
      "\n"
     ]
    }
   ],
   "source": [
    "#Checking Schema of PySpark DataFrames\n",
    "csv_file.printSchema()\n",
    "txt_file.printSchema()\n",
    "json_file.printSchema()"
   ]
  },
  {
   "cell_type": "code",
   "execution_count": 29,
   "id": "ee326592",
   "metadata": {},
   "outputs": [
    {
     "name": "stdout",
     "output_type": "stream",
     "text": [
      "+---+-----+-----+--------+-------+\n",
      "|_c0|Payer|Payee|  Amount|lineage|\n",
      "+---+-----+-----+--------+-------+\n",
      "|  0|   E3|   E5| 5900883|   NULL|\n",
      "|  1|   E4|   E5| 7393544|   NULL|\n",
      "|  2|   E7|  E10|  151314|   NULL|\n",
      "|  3|   E8|  E10|12350990|   NULL|\n",
      "|  4|   E1|   E4| 3283881|   NULL|\n",
      "|  5|   E8|   E4|21998843|   NULL|\n",
      "|  6|   E9|   E3| 4245816|   NULL|\n",
      "|  7|   E2|   E8| 8550660|   NULL|\n",
      "|  8|   E7|   E8|  306645|   NULL|\n",
      "|  9|   E6|   E2|14744711|   NULL|\n",
      "| 10|   E1|   E6|11359928|   NULL|\n",
      "| 11|   E7|   E6|  913563|   NULL|\n",
      "| 12|   E9|   E6|21564905|   NULL|\n",
      "| 13|   E9|   E1| 2812166|   NULL|\n",
      "+---+-----+-----+--------+-------+\n",
      "\n"
     ]
    }
   ],
   "source": [
    "csv_file.show()"
   ]
  },
  {
   "cell_type": "code",
   "execution_count": 30,
   "id": "3d09e4b5",
   "metadata": {},
   "outputs": [
    {
     "name": "stdout",
     "output_type": "stream",
     "text": [
      "+--------------------+\n",
      "|               value|\n",
      "+--------------------+\n",
      "|PySpark has been ...|\n",
      "+--------------------+\n",
      "\n"
     ]
    }
   ],
   "source": [
    "txt_file.show()"
   ]
  },
  {
   "cell_type": "code",
   "execution_count": 31,
   "id": "d59b0c1b",
   "metadata": {},
   "outputs": [
    {
     "name": "stdout",
     "output_type": "stream",
     "text": [
      "+----+-----------+-----------+------+\n",
      "|cgpa|       name|phonenumber|rollno|\n",
      "+----+-----------+-----------+------+\n",
      "| 8.6|sathiyajith| 9976770500|    56|\n",
      "+----+-----------+-----------+------+\n",
      "\n"
     ]
    }
   ],
   "source": [
    "json_file.show()"
   ]
  },
  {
   "cell_type": "code",
   "execution_count": null,
   "id": "d15f5a04",
   "metadata": {},
   "outputs": [],
   "source": []
  }
 ],
 "metadata": {
  "kernelspec": {
   "display_name": "Python 3 (ipykernel)",
   "language": "python",
   "name": "python3"
  },
  "language_info": {
   "codemirror_mode": {
    "name": "ipython",
    "version": 3
   },
   "file_extension": ".py",
   "mimetype": "text/x-python",
   "name": "python",
   "nbconvert_exporter": "python",
   "pygments_lexer": "ipython3",
   "version": "3.11.5"
  }
 },
 "nbformat": 4,
 "nbformat_minor": 5
}
